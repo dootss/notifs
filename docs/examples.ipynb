{
 "cells": [
  {
   "cell_type": "code",
   "execution_count": null,
   "metadata": {},
   "outputs": [],
   "source": [
    "from notifs import notif\n",
    "\n",
    "# Default notification\n",
    "notif(\"nothing changed.\")"
   ]
  },
  {
   "cell_type": "code",
   "execution_count": null,
   "metadata": {},
   "outputs": [],
   "source": [
    "# Custom symbol\n",
    "notif(\"symbol *.\", symbol='*')"
   ]
  },
  {
   "cell_type": "code",
   "execution_count": null,
   "metadata": {},
   "outputs": [],
   "source": [
    "# Custom color\n",
    "notif(\"color blue.\", color='blue')"
   ]
  },
  {
   "cell_type": "code",
   "execution_count": null,
   "metadata": {},
   "outputs": [],
   "source": [
    "\n",
    "# Full style with custom color and symbol\n",
    "notif(\"symbol >, color green, style full.\", symbol='>', color='green', style='full')"
   ]
  },
  {
   "cell_type": "code",
   "execution_count": null,
   "metadata": {},
   "outputs": [],
   "source": [
    "\n",
    "# Partial style with custom color and symbol\n",
    "notif(\"symbol >>, color magenta, style partial.\", symbol='>>', color='magenta', style='partial')"
   ]
  },
  {
   "cell_type": "code",
   "execution_count": null,
   "metadata": {},
   "outputs": [],
   "source": [
    "\n",
    "# Symbol style (default) with custom color and symbol\n",
    "# and a prettier way of formatting it\n",
    "notif(\n",
    "    \"symbol !, color cyan, style symbol.\",\n",
    "    symbol='!',\n",
    "    color='cyan',\n",
    "    style='symbol'\n",
    "    )"
   ]
  },
  {
   "cell_type": "code",
   "execution_count": null,
   "metadata": {},
   "outputs": [],
   "source": [
    "\n",
    "# Missing style (defaults to symbol style)\n",
    "notif(\"symbol @, color red, missing style.\", symbol='@', color='red')"
   ]
  },
  {
   "cell_type": "code",
   "execution_count": null,
   "metadata": {},
   "outputs": [],
   "source": [
    "\n",
    "# A symbol demo.\n",
    "notif(\"anything you want\", symbol=\"you can set the symbol to\")"
   ]
  },
  {
   "cell_type": "code",
   "execution_count": null,
   "metadata": {},
   "outputs": [],
   "source": [
    "\n",
    "# Invalid color, should raise ValueError\n",
    "try:\n",
    "    notif(\"Invalid color provided.\", color='invalid_color')\n",
    "except ValueError as e:\n",
    "    notif(e)"
   ]
  },
  {
   "cell_type": "code",
   "execution_count": null,
   "metadata": {},
   "outputs": [],
   "source": [
    "\n",
    "# Invalid style, should raise ValueError\n",
    "    # we also pass it through another notif here lol, same above\n",
    "try:\n",
    "    notif(\"Invalid style provided.\", style='invalid_style')\n",
    "except ValueError as e:\n",
    "    notif(e)"
   ]
  }
 ],
 "metadata": {
  "language_info": {
   "name": "python"
  }
 },
 "nbformat": 4,
 "nbformat_minor": 2
}
