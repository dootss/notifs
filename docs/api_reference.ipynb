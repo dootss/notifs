{
 "cells": [
  {
   "cell_type": "markdown",
   "metadata": {},
   "source": [
    "# API Reference\n",
    "\n",
    "Notifs provides a simple API to display notifications with various styles and colors.\n",
    "\n",
    "## notif\n",
    "\n",
    "Display a customizable notification.\n",
    "\n",
    "**Arguments**:\n",
    "\n",
    "- `text` (str): The text message to display.\n",
    "\n",
    "- `symbol` (str, optional): The symbol to display at the beginning of the message. Defaults to '!'.\n",
    "\n",
    "- `color` (str, optional): The color of the message. Supported colors: red, green, yellow, blue, magenta, cyan, white. Defaults to 'yellow'.\n",
    "\n",
    "- `style` (str, optional): The style of the notification. Options are 'full', 'partial', 'symbol'. Defaults to 'symbol'.\n",
    "\n",
    "**Example**:"
   ]
  },
  {
   "cell_type": "code",
   "execution_count": 1,
   "metadata": {},
   "outputs": [
    {
     "name": "stdout",
     "output_type": "stream",
     "text": [
      "\u001b[32m[*] Hello, World!\u001b[0m\n"
     ]
    }
   ],
   "source": [
    "from notifs import notif\n",
    "\n",
    "notif(\"Hello, World!\", symbol='*', color='green', style='full')"
   ]
  }
 ],
 "metadata": {
  "kernelspec": {
   "display_name": "Python 3",
   "language": "python",
   "name": "python3"
  },
  "language_info": {
   "codemirror_mode": {
    "name": "ipython",
    "version": 3
   },
   "file_extension": ".py",
   "mimetype": "text/x-python",
   "name": "python",
   "nbconvert_exporter": "python",
   "pygments_lexer": "ipython3",
   "version": "3.10.10"
  }
 },
 "nbformat": 4,
 "nbformat_minor": 2
}
